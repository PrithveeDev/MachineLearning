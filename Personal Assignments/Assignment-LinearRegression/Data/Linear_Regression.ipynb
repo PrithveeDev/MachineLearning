{
  "cells": [
    {
      "cell_type": "markdown",
      "metadata": {
        "id": "tmCuamE6JKKH"
      },
      "source": [
        "## Applying Multiple Variable Linear Regression Over **\"Fundamentals.csv\"** "
      ]
    },
    {
      "cell_type": "code",
      "execution_count": 12,
      "metadata": {
        "id": "wQa4V42fx5XL"
      },
      "outputs": [],
      "source": [
        "import numpy as np\n",
        "import pandas as pd\n",
        "import matplotlib.pyplot as plt\n",
        "import seaborn as sns\n",
        "%matplotlib inline"
      ]
    },
    {
      "cell_type": "code",
      "execution_count": 13,
      "metadata": {},
      "outputs": [
        {
          "data": {
            "text/plain": [
              "'1.0.2'"
            ]
          },
          "execution_count": 13,
          "metadata": {},
          "output_type": "execute_result"
        }
      ],
      "source": []
    },
    {
      "cell_type": "markdown",
      "metadata": {
        "id": "7WSy3IirJcas"
      },
      "source": [
        "### Importing **Fundamentals.csv** from GitHub Repo.."
      ]
    },
    {
      "cell_type": "code",
      "execution_count": 39,
      "metadata": {
        "colab": {
          "base_uri": "https://localhost:8080/",
          "height": 363
        },
        "id": "kkgE90FADm1v",
        "outputId": "349b5542-62f5-4a4b-c272-f784b8bf7b7f"
      },
      "outputs": [
        {
          "data": {
            "text/html": [
              "<div>\n",
              "<style scoped>\n",
              "    .dataframe tbody tr th:only-of-type {\n",
              "        vertical-align: middle;\n",
              "    }\n",
              "\n",
              "    .dataframe tbody tr th {\n",
              "        vertical-align: top;\n",
              "    }\n",
              "\n",
              "    .dataframe thead th {\n",
              "        text-align: right;\n",
              "    }\n",
              "</style>\n",
              "<table border=\"1\" class=\"dataframe\">\n",
              "  <thead>\n",
              "    <tr style=\"text-align: right;\">\n",
              "      <th></th>\n",
              "      <th>Unnamed: 0</th>\n",
              "      <th>Ticker Symbol</th>\n",
              "      <th>Period Ending</th>\n",
              "      <th>Accounts Payable</th>\n",
              "      <th>Accounts Receivable</th>\n",
              "      <th>Add'l income/expense items</th>\n",
              "      <th>After Tax ROE</th>\n",
              "      <th>Capital Expenditures</th>\n",
              "      <th>Capital Surplus</th>\n",
              "      <th>Cash Ratio</th>\n",
              "      <th>...</th>\n",
              "      <th>Total Current Assets</th>\n",
              "      <th>Total Current Liabilities</th>\n",
              "      <th>Total Equity</th>\n",
              "      <th>Total Liabilities</th>\n",
              "      <th>Total Liabilities &amp; Equity</th>\n",
              "      <th>Total Revenue</th>\n",
              "      <th>Treasury Stock</th>\n",
              "      <th>For Year</th>\n",
              "      <th>Earnings Per Share</th>\n",
              "      <th>Estimated Shares Outstanding</th>\n",
              "    </tr>\n",
              "  </thead>\n",
              "  <tbody>\n",
              "    <tr>\n",
              "      <th>0</th>\n",
              "      <td>0</td>\n",
              "      <td>AAL</td>\n",
              "      <td>2012-12-31</td>\n",
              "      <td>3.068000e+09</td>\n",
              "      <td>-222000000</td>\n",
              "      <td>-1961000000</td>\n",
              "      <td>23</td>\n",
              "      <td>-1888000000</td>\n",
              "      <td>4.695000e+09</td>\n",
              "      <td>53.0</td>\n",
              "      <td>...</td>\n",
              "      <td>7.072000e+09</td>\n",
              "      <td>9011000000</td>\n",
              "      <td>-7.987000e+09</td>\n",
              "      <td>2.489100e+10</td>\n",
              "      <td>1.690400e+10</td>\n",
              "      <td>2.485500e+10</td>\n",
              "      <td>-367000000.0</td>\n",
              "      <td>2012.0</td>\n",
              "      <td>-5.60</td>\n",
              "      <td>3.350000e+08</td>\n",
              "    </tr>\n",
              "    <tr>\n",
              "      <th>1</th>\n",
              "      <td>1</td>\n",
              "      <td>AAL</td>\n",
              "      <td>2013-12-31</td>\n",
              "      <td>4.975000e+09</td>\n",
              "      <td>-93000000</td>\n",
              "      <td>-2723000000</td>\n",
              "      <td>67</td>\n",
              "      <td>-3114000000</td>\n",
              "      <td>1.059200e+10</td>\n",
              "      <td>75.0</td>\n",
              "      <td>...</td>\n",
              "      <td>1.432300e+10</td>\n",
              "      <td>13806000000</td>\n",
              "      <td>-2.731000e+09</td>\n",
              "      <td>4.500900e+10</td>\n",
              "      <td>4.227800e+10</td>\n",
              "      <td>2.674300e+10</td>\n",
              "      <td>0.0</td>\n",
              "      <td>2013.0</td>\n",
              "      <td>-11.25</td>\n",
              "      <td>1.630222e+08</td>\n",
              "    </tr>\n",
              "    <tr>\n",
              "      <th>2</th>\n",
              "      <td>2</td>\n",
              "      <td>AAL</td>\n",
              "      <td>2014-12-31</td>\n",
              "      <td>4.668000e+09</td>\n",
              "      <td>-160000000</td>\n",
              "      <td>-150000000</td>\n",
              "      <td>143</td>\n",
              "      <td>-5311000000</td>\n",
              "      <td>1.513500e+10</td>\n",
              "      <td>60.0</td>\n",
              "      <td>...</td>\n",
              "      <td>1.175000e+10</td>\n",
              "      <td>13404000000</td>\n",
              "      <td>2.021000e+09</td>\n",
              "      <td>4.120400e+10</td>\n",
              "      <td>4.322500e+10</td>\n",
              "      <td>4.265000e+10</td>\n",
              "      <td>0.0</td>\n",
              "      <td>2014.0</td>\n",
              "      <td>4.02</td>\n",
              "      <td>7.169154e+08</td>\n",
              "    </tr>\n",
              "    <tr>\n",
              "      <th>3</th>\n",
              "      <td>3</td>\n",
              "      <td>AAL</td>\n",
              "      <td>2015-12-31</td>\n",
              "      <td>5.102000e+09</td>\n",
              "      <td>352000000</td>\n",
              "      <td>-708000000</td>\n",
              "      <td>135</td>\n",
              "      <td>-6151000000</td>\n",
              "      <td>1.159100e+10</td>\n",
              "      <td>51.0</td>\n",
              "      <td>...</td>\n",
              "      <td>9.985000e+09</td>\n",
              "      <td>13605000000</td>\n",
              "      <td>5.635000e+09</td>\n",
              "      <td>4.278000e+10</td>\n",
              "      <td>4.841500e+10</td>\n",
              "      <td>4.099000e+10</td>\n",
              "      <td>0.0</td>\n",
              "      <td>2015.0</td>\n",
              "      <td>11.39</td>\n",
              "      <td>6.681299e+08</td>\n",
              "    </tr>\n",
              "    <tr>\n",
              "      <th>4</th>\n",
              "      <td>4</td>\n",
              "      <td>AAP</td>\n",
              "      <td>2012-12-29</td>\n",
              "      <td>2.409453e+09</td>\n",
              "      <td>-89482000</td>\n",
              "      <td>600000</td>\n",
              "      <td>32</td>\n",
              "      <td>-271182000</td>\n",
              "      <td>5.202150e+08</td>\n",
              "      <td>23.0</td>\n",
              "      <td>...</td>\n",
              "      <td>3.184200e+09</td>\n",
              "      <td>2559638000</td>\n",
              "      <td>1.210694e+09</td>\n",
              "      <td>3.403120e+09</td>\n",
              "      <td>4.613814e+09</td>\n",
              "      <td>6.205003e+09</td>\n",
              "      <td>-27095000.0</td>\n",
              "      <td>2012.0</td>\n",
              "      <td>5.29</td>\n",
              "      <td>7.328355e+07</td>\n",
              "    </tr>\n",
              "  </tbody>\n",
              "</table>\n",
              "<p>5 rows × 79 columns</p>\n",
              "</div>"
            ],
            "text/plain": [
              "   Unnamed: 0 Ticker Symbol Period Ending  Accounts Payable  \\\n",
              "0           0           AAL    2012-12-31      3.068000e+09   \n",
              "1           1           AAL    2013-12-31      4.975000e+09   \n",
              "2           2           AAL    2014-12-31      4.668000e+09   \n",
              "3           3           AAL    2015-12-31      5.102000e+09   \n",
              "4           4           AAP    2012-12-29      2.409453e+09   \n",
              "\n",
              "   Accounts Receivable  Add'l income/expense items  After Tax ROE  \\\n",
              "0           -222000000                 -1961000000             23   \n",
              "1            -93000000                 -2723000000             67   \n",
              "2           -160000000                  -150000000            143   \n",
              "3            352000000                  -708000000            135   \n",
              "4            -89482000                      600000             32   \n",
              "\n",
              "   Capital Expenditures  Capital Surplus  Cash Ratio  ...  \\\n",
              "0           -1888000000     4.695000e+09        53.0  ...   \n",
              "1           -3114000000     1.059200e+10        75.0  ...   \n",
              "2           -5311000000     1.513500e+10        60.0  ...   \n",
              "3           -6151000000     1.159100e+10        51.0  ...   \n",
              "4            -271182000     5.202150e+08        23.0  ...   \n",
              "\n",
              "   Total Current Assets  Total Current Liabilities  Total Equity  \\\n",
              "0          7.072000e+09                 9011000000 -7.987000e+09   \n",
              "1          1.432300e+10                13806000000 -2.731000e+09   \n",
              "2          1.175000e+10                13404000000  2.021000e+09   \n",
              "3          9.985000e+09                13605000000  5.635000e+09   \n",
              "4          3.184200e+09                 2559638000  1.210694e+09   \n",
              "\n",
              "   Total Liabilities  Total Liabilities & Equity  Total Revenue  \\\n",
              "0       2.489100e+10                1.690400e+10   2.485500e+10   \n",
              "1       4.500900e+10                4.227800e+10   2.674300e+10   \n",
              "2       4.120400e+10                4.322500e+10   4.265000e+10   \n",
              "3       4.278000e+10                4.841500e+10   4.099000e+10   \n",
              "4       3.403120e+09                4.613814e+09   6.205003e+09   \n",
              "\n",
              "   Treasury Stock  For Year  Earnings Per Share  Estimated Shares Outstanding  \n",
              "0    -367000000.0    2012.0               -5.60                  3.350000e+08  \n",
              "1             0.0    2013.0              -11.25                  1.630222e+08  \n",
              "2             0.0    2014.0                4.02                  7.169154e+08  \n",
              "3             0.0    2015.0               11.39                  6.681299e+08  \n",
              "4     -27095000.0    2012.0                5.29                  7.328355e+07  \n",
              "\n",
              "[5 rows x 79 columns]"
            ]
          },
          "execution_count": 39,
          "metadata": {},
          "output_type": "execute_result"
        }
      ],
      "source": [
        "df = pd.read_csv('Fundamentals.csv')\n",
        "df.head()"
      ]
    },
    {
      "cell_type": "markdown",
      "metadata": {
        "id": "zloj6dAJKEFK"
      },
      "source": [
        "### Dropping unnecessary rows, columns and NaN values.."
      ]
    },
    {
      "cell_type": "code",
      "execution_count": 40,
      "metadata": {
        "id": "r_26JwJeFjvx"
      },
      "outputs": [
        {
          "data": {
            "text/html": [
              "<div>\n",
              "<style scoped>\n",
              "    .dataframe tbody tr th:only-of-type {\n",
              "        vertical-align: middle;\n",
              "    }\n",
              "\n",
              "    .dataframe tbody tr th {\n",
              "        vertical-align: top;\n",
              "    }\n",
              "\n",
              "    .dataframe thead th {\n",
              "        text-align: right;\n",
              "    }\n",
              "</style>\n",
              "<table border=\"1\" class=\"dataframe\">\n",
              "  <thead>\n",
              "    <tr style=\"text-align: right;\">\n",
              "      <th></th>\n",
              "      <th>Accounts Payable</th>\n",
              "      <th>Accounts Receivable</th>\n",
              "      <th>Add'l income/expense items</th>\n",
              "      <th>After Tax ROE</th>\n",
              "      <th>Capital Expenditures</th>\n",
              "      <th>Capital Surplus</th>\n",
              "      <th>Cash Ratio</th>\n",
              "      <th>Cash and Cash Equivalents</th>\n",
              "      <th>Changes in Inventories</th>\n",
              "      <th>Common Stocks</th>\n",
              "      <th>...</th>\n",
              "      <th>Total Current Assets</th>\n",
              "      <th>Total Current Liabilities</th>\n",
              "      <th>Total Equity</th>\n",
              "      <th>Total Liabilities</th>\n",
              "      <th>Total Liabilities &amp; Equity</th>\n",
              "      <th>Total Revenue</th>\n",
              "      <th>Treasury Stock</th>\n",
              "      <th>For Year</th>\n",
              "      <th>Earnings Per Share</th>\n",
              "      <th>Estimated Shares Outstanding</th>\n",
              "    </tr>\n",
              "  </thead>\n",
              "  <tbody>\n",
              "    <tr>\n",
              "      <th>0</th>\n",
              "      <td>3.068000e+09</td>\n",
              "      <td>-222000000</td>\n",
              "      <td>-1961000000</td>\n",
              "      <td>23</td>\n",
              "      <td>-1888000000</td>\n",
              "      <td>4.695000e+09</td>\n",
              "      <td>53.0</td>\n",
              "      <td>1.330000e+09</td>\n",
              "      <td>0</td>\n",
              "      <td>127000000.0</td>\n",
              "      <td>...</td>\n",
              "      <td>7.072000e+09</td>\n",
              "      <td>9011000000</td>\n",
              "      <td>-7.987000e+09</td>\n",
              "      <td>2.489100e+10</td>\n",
              "      <td>1.690400e+10</td>\n",
              "      <td>2.485500e+10</td>\n",
              "      <td>-367000000.0</td>\n",
              "      <td>2012.0</td>\n",
              "      <td>-5.60</td>\n",
              "      <td>3.350000e+08</td>\n",
              "    </tr>\n",
              "    <tr>\n",
              "      <th>1</th>\n",
              "      <td>4.975000e+09</td>\n",
              "      <td>-93000000</td>\n",
              "      <td>-2723000000</td>\n",
              "      <td>67</td>\n",
              "      <td>-3114000000</td>\n",
              "      <td>1.059200e+10</td>\n",
              "      <td>75.0</td>\n",
              "      <td>2.175000e+09</td>\n",
              "      <td>0</td>\n",
              "      <td>5000000.0</td>\n",
              "      <td>...</td>\n",
              "      <td>1.432300e+10</td>\n",
              "      <td>13806000000</td>\n",
              "      <td>-2.731000e+09</td>\n",
              "      <td>4.500900e+10</td>\n",
              "      <td>4.227800e+10</td>\n",
              "      <td>2.674300e+10</td>\n",
              "      <td>0.0</td>\n",
              "      <td>2013.0</td>\n",
              "      <td>-11.25</td>\n",
              "      <td>1.630222e+08</td>\n",
              "    </tr>\n",
              "    <tr>\n",
              "      <th>2</th>\n",
              "      <td>4.668000e+09</td>\n",
              "      <td>-160000000</td>\n",
              "      <td>-150000000</td>\n",
              "      <td>143</td>\n",
              "      <td>-5311000000</td>\n",
              "      <td>1.513500e+10</td>\n",
              "      <td>60.0</td>\n",
              "      <td>1.768000e+09</td>\n",
              "      <td>0</td>\n",
              "      <td>7000000.0</td>\n",
              "      <td>...</td>\n",
              "      <td>1.175000e+10</td>\n",
              "      <td>13404000000</td>\n",
              "      <td>2.021000e+09</td>\n",
              "      <td>4.120400e+10</td>\n",
              "      <td>4.322500e+10</td>\n",
              "      <td>4.265000e+10</td>\n",
              "      <td>0.0</td>\n",
              "      <td>2014.0</td>\n",
              "      <td>4.02</td>\n",
              "      <td>7.169154e+08</td>\n",
              "    </tr>\n",
              "    <tr>\n",
              "      <th>3</th>\n",
              "      <td>5.102000e+09</td>\n",
              "      <td>352000000</td>\n",
              "      <td>-708000000</td>\n",
              "      <td>135</td>\n",
              "      <td>-6151000000</td>\n",
              "      <td>1.159100e+10</td>\n",
              "      <td>51.0</td>\n",
              "      <td>1.085000e+09</td>\n",
              "      <td>0</td>\n",
              "      <td>6000000.0</td>\n",
              "      <td>...</td>\n",
              "      <td>9.985000e+09</td>\n",
              "      <td>13605000000</td>\n",
              "      <td>5.635000e+09</td>\n",
              "      <td>4.278000e+10</td>\n",
              "      <td>4.841500e+10</td>\n",
              "      <td>4.099000e+10</td>\n",
              "      <td>0.0</td>\n",
              "      <td>2015.0</td>\n",
              "      <td>11.39</td>\n",
              "      <td>6.681299e+08</td>\n",
              "    </tr>\n",
              "    <tr>\n",
              "      <th>4</th>\n",
              "      <td>2.409453e+09</td>\n",
              "      <td>-89482000</td>\n",
              "      <td>600000</td>\n",
              "      <td>32</td>\n",
              "      <td>-271182000</td>\n",
              "      <td>5.202150e+08</td>\n",
              "      <td>23.0</td>\n",
              "      <td>5.981110e+08</td>\n",
              "      <td>-260298000</td>\n",
              "      <td>7000.0</td>\n",
              "      <td>...</td>\n",
              "      <td>3.184200e+09</td>\n",
              "      <td>2559638000</td>\n",
              "      <td>1.210694e+09</td>\n",
              "      <td>3.403120e+09</td>\n",
              "      <td>4.613814e+09</td>\n",
              "      <td>6.205003e+09</td>\n",
              "      <td>-27095000.0</td>\n",
              "      <td>2012.0</td>\n",
              "      <td>5.29</td>\n",
              "      <td>7.328355e+07</td>\n",
              "    </tr>\n",
              "  </tbody>\n",
              "</table>\n",
              "<p>5 rows × 76 columns</p>\n",
              "</div>"
            ],
            "text/plain": [
              "   Accounts Payable  Accounts Receivable  Add'l income/expense items  \\\n",
              "0      3.068000e+09           -222000000                 -1961000000   \n",
              "1      4.975000e+09            -93000000                 -2723000000   \n",
              "2      4.668000e+09           -160000000                  -150000000   \n",
              "3      5.102000e+09            352000000                  -708000000   \n",
              "4      2.409453e+09            -89482000                      600000   \n",
              "\n",
              "   After Tax ROE  Capital Expenditures  Capital Surplus  Cash Ratio  \\\n",
              "0             23           -1888000000     4.695000e+09        53.0   \n",
              "1             67           -3114000000     1.059200e+10        75.0   \n",
              "2            143           -5311000000     1.513500e+10        60.0   \n",
              "3            135           -6151000000     1.159100e+10        51.0   \n",
              "4             32            -271182000     5.202150e+08        23.0   \n",
              "\n",
              "   Cash and Cash Equivalents  Changes in Inventories  Common Stocks  ...  \\\n",
              "0               1.330000e+09                       0    127000000.0  ...   \n",
              "1               2.175000e+09                       0      5000000.0  ...   \n",
              "2               1.768000e+09                       0      7000000.0  ...   \n",
              "3               1.085000e+09                       0      6000000.0  ...   \n",
              "4               5.981110e+08              -260298000         7000.0  ...   \n",
              "\n",
              "   Total Current Assets  Total Current Liabilities  Total Equity  \\\n",
              "0          7.072000e+09                 9011000000 -7.987000e+09   \n",
              "1          1.432300e+10                13806000000 -2.731000e+09   \n",
              "2          1.175000e+10                13404000000  2.021000e+09   \n",
              "3          9.985000e+09                13605000000  5.635000e+09   \n",
              "4          3.184200e+09                 2559638000  1.210694e+09   \n",
              "\n",
              "   Total Liabilities  Total Liabilities & Equity  Total Revenue  \\\n",
              "0       2.489100e+10                1.690400e+10   2.485500e+10   \n",
              "1       4.500900e+10                4.227800e+10   2.674300e+10   \n",
              "2       4.120400e+10                4.322500e+10   4.265000e+10   \n",
              "3       4.278000e+10                4.841500e+10   4.099000e+10   \n",
              "4       3.403120e+09                4.613814e+09   6.205003e+09   \n",
              "\n",
              "   Treasury Stock  For Year  Earnings Per Share  Estimated Shares Outstanding  \n",
              "0    -367000000.0    2012.0               -5.60                  3.350000e+08  \n",
              "1             0.0    2013.0              -11.25                  1.630222e+08  \n",
              "2             0.0    2014.0                4.02                  7.169154e+08  \n",
              "3             0.0    2015.0               11.39                  6.681299e+08  \n",
              "4     -27095000.0    2012.0                5.29                  7.328355e+07  \n",
              "\n",
              "[5 rows x 76 columns]"
            ]
          },
          "execution_count": 40,
          "metadata": {},
          "output_type": "execute_result"
        }
      ],
      "source": [
        "x = df.drop('Period Ending', axis=1).drop('Ticker Symbol', axis=1).drop('Unnamed: 0', axis=1).dropna()\n",
        "x.head()"
      ]
    },
    {
      "cell_type": "markdown",
      "metadata": {
        "id": "FjvtsG2TKbFN"
      },
      "source": [
        "### Selecting X and y Accordingly.."
      ]
    },
    {
      "cell_type": "code",
      "execution_count": 41,
      "metadata": {
        "id": "YlFzOPXVIQ0s"
      },
      "outputs": [],
      "source": [
        "X = x[['Accounts Payable', 'Accounts Receivable', \"Add'l income/expense items\",\n",
        "       'After Tax ROE', 'Capital Expenditures', 'Capital Surplus',\n",
        "       'Cash Ratio', 'Cash and Cash Equivalents', 'Changes in Inventories',\n",
        "       'Common Stocks', 'Cost of Revenue', 'Current Ratio',\n",
        "       'Deferred Asset Charges', 'Deferred Liability Charges', 'Depreciation',\n",
        "       'Earnings Before Interest and Tax', 'Earnings Before Tax',\n",
        "       'Effect of Exchange Rate',\n",
        "       'Equity Earnings/Loss Unconsolidated Subsidiary', 'Fixed Assets',\n",
        "       'Goodwill', 'Gross Margin', 'Gross Profit', 'Income Tax',\n",
        "       'Intangible Assets', 'Interest Expense', 'Inventory', 'Investments',\n",
        "       'Liabilities', 'Long-Term Debt', 'Long-Term Investments',\n",
        "       'Minority Interest', 'Misc. Stocks', 'Net Borrowings', 'Net Cash Flow',\n",
        "       'Net Cash Flow-Operating', 'Net Cash Flows-Financing',\n",
        "       'Net Cash Flows-Investing', 'Net Income', 'Net Income Adjustments',\n",
        "       'Net Income Applicable to Common Shareholders',\n",
        "       'Net Income-Cont. Operations', 'Net Receivables', 'Non-Recurring Items',\n",
        "       'Operating Income', 'Operating Margin', 'Other Assets',\n",
        "       'Other Current Assets', 'Other Current Liabilities', 'Other Equity',\n",
        "       'Other Financing Activities', 'Other Investing Activities',\n",
        "       'Other Liabilities', 'Other Operating Activities',\n",
        "       'Other Operating Items', 'Pre-Tax Margin', 'Pre-Tax ROE',\n",
        "       'Profit Margin', 'Quick Ratio', 'Research and Development',\n",
        "       'Retained Earnings', 'Sale and Purchase of Stock',\n",
        "       'Sales, General and Admin.',\n",
        "       'Short-Term Debt / Current Portion of Long-Term Debt',\n",
        "       'Short-Term Investments', 'Total Assets', 'Total Current Assets',\n",
        "       'Total Current Liabilities', 'Total Equity', 'Total Liabilities',\n",
        "       'Total Liabilities & Equity', 'Total Revenue', 'Treasury Stock',\n",
        "       'For Year', 'Earnings Per Share']]\n",
        "\n",
        "y = x['Estimated Shares Outstanding']"
      ]
    },
    {
      "cell_type": "markdown",
      "metadata": {
        "id": "rbwlmI8YK_0J"
      },
      "source": [
        "### Checking for any Null values - Just in case.."
      ]
    },
    {
      "cell_type": "markdown",
      "metadata": {
        "id": "u1q5f_orKwyE"
      },
      "source": [
        "### Importing **Train_Test_Split** from **sklearn.model_selection** and Training over **Training Set**"
      ]
    },
    {
      "cell_type": "code",
      "execution_count": 42,
      "metadata": {
        "id": "KIrcMR_WD49-"
      },
      "outputs": [
        {
          "data": {
            "text/plain": [
              "LinearRegression()"
            ]
          },
          "execution_count": 42,
          "metadata": {},
          "output_type": "execute_result"
        }
      ],
      "source": [
        "from sklearn.model_selection import train_test_split\n",
        "x_train, x_test, y_train, y_test = train_test_split(X, y, test_size = 0.2, random_state = 42)\n",
        "\n",
        "from sklearn.linear_model import LinearRegression\n",
        "LR = LinearRegression()\n",
        "LR.fit(x_train,y_train)"
      ]
    },
    {
      "cell_type": "code",
      "execution_count": 43,
      "metadata": {},
      "outputs": [
        {
          "data": {
            "text/plain": [
              "False"
            ]
          },
          "execution_count": 43,
          "metadata": {},
          "output_type": "execute_result"
        }
      ],
      "source": [
        "x_train.isnull().values.any()"
      ]
    },
    {
      "cell_type": "code",
      "execution_count": 44,
      "metadata": {
        "id": "Oy9EnLE3OVj_"
      },
      "outputs": [
        {
          "data": {
            "text/plain": [
              "array([ 5.13642209e+08,  2.88780820e+08,  7.38600120e+08,  4.40655756e+08,\n",
              "        1.93594715e+09,  1.27004566e+08,  2.26149970e+08,  2.37889638e+08,\n",
              "        2.77941187e+09,  3.62502900e+08,  9.18902153e+07,  4.59149640e+08,\n",
              "        2.62045135e+08,  2.35265681e+08,  8.66575904e+08,  6.93649452e+07,\n",
              "        1.21044325e+09,  4.06825198e+08,  2.90692972e+08, -1.73337411e+08,\n",
              "        3.14499457e+08,  1.61048825e+08,  4.20744741e+08,  9.40343606e+08,\n",
              "        5.62063612e+08,  3.77895064e+08,  9.70716089e+07,  4.04327621e+08,\n",
              "        1.81097054e+08,  6.06175879e+08,  4.06914627e+07,  4.13042848e+08,\n",
              "        1.46748581e+08,  2.24607440e+08,  5.37370597e+08,  2.63004050e+08,\n",
              "        5.45176386e+07,  1.47524700e+08,  3.80422011e+08,  2.86469678e+08,\n",
              "        4.44186203e+08,  2.42708334e+08,  8.92218822e+08,  1.20715195e+08,\n",
              "        6.33689081e+08,  2.20874145e+08,  5.63719639e+08, -1.85171192e+07,\n",
              "       -7.57655869e+08,  3.47142012e+08,  6.65277779e+07,  5.63974958e+09,\n",
              "        2.26896044e+08,  8.51596502e+09,  5.80835077e+08,  2.37317156e+08,\n",
              "        1.29203503e+07,  4.82693548e+08,  2.53549968e+08,  1.35497088e+08,\n",
              "        3.82437561e+08,  2.73809087e+08,  2.44906163e+08,  4.01110257e+08,\n",
              "        2.71404164e+08,  1.54954989e+08,  1.80831791e+08,  1.96495948e+09,\n",
              "        3.13169134e+08,  1.04467269e+09,  2.03198915e+08,  6.74046399e+07,\n",
              "        3.84933436e+08,  3.70580790e+08,  4.68653370e+08,  4.73202961e+09,\n",
              "        4.39611216e+08,  1.39328896e+09,  3.39993011e+08,  1.53262068e+08,\n",
              "        6.42536085e+07,  1.17595128e+09,  7.69495441e+08,  1.28388090e+08,\n",
              "        3.55314472e+08,  3.32435746e+08,  6.25989779e+08,  5.84261071e+08,\n",
              "        5.04428580e+08,  5.60519739e+08,  1.44782926e+08,  8.72015450e+08,\n",
              "        2.32106822e+08,  5.21099802e+08,  3.03854529e+08,  3.91555382e+08,\n",
              "        6.98809205e+08,  4.36244269e+08,  5.40156238e+08,  1.39263369e+08,\n",
              "        3.90109932e+08,  1.66665361e+08,  1.02122235e+09,  5.37560318e+08,\n",
              "        1.73514169e+08,  9.16755974e+08,  5.44605242e+08,  1.53448175e+08,\n",
              "        2.31298318e+08,  1.02664208e+08,  1.68503702e+08,  1.63208178e+08,\n",
              "        1.03936936e+08,  6.69473901e+08,  1.72848040e+08,  9.73612694e+07,\n",
              "        2.01222178e+08,  5.90167266e+08,  1.33766117e+08,  2.16402480e+08,\n",
              "        1.71780279e+08, -3.32336760e+08,  2.58072207e+08,  3.28495500e+08,\n",
              "        2.75160891e+08,  3.77570670e+08,  3.74285220e+08,  8.67206188e+08,\n",
              "        2.61084777e+08, -9.67934754e+08,  1.59304403e+08,  2.87758309e+08,\n",
              "        2.90896029e+08,  8.95543107e+08,  2.79405605e+08,  1.40277325e+08,\n",
              "        5.37865223e+08,  7.84264569e+08,  1.51560661e+09,  5.80856353e+07,\n",
              "        2.01640957e+08,  6.01957799e+08,  1.28998794e+09,  1.32020739e+08,\n",
              "       -3.35055106e+07,  1.85443527e+08,  1.24676800e+09,  3.61328598e+08,\n",
              "        4.31338055e+08,  9.26692095e+07,  6.93061692e+08,  4.87657623e+08,\n",
              "        1.77756956e+08,  1.69396268e+08,  5.44574261e+08,  1.53206323e+08,\n",
              "        1.72378295e+08,  7.50894291e+07,  1.35890071e+08,  4.39431481e+08,\n",
              "        1.89218424e+08,  3.03094473e+08,  1.73208683e+08,  4.39823975e+08,\n",
              "        8.34709093e+08,  3.97582454e+08,  2.79891710e+08,  4.38588573e+08,\n",
              "        1.19167071e+08,  2.26819857e+08,  4.66315241e+08,  7.28121771e+07,\n",
              "        4.39406617e+08,  2.10532708e+08,  3.29476848e+08,  1.11037659e+08,\n",
              "        5.62039399e+08,  7.07610139e+08,  1.20810213e+08,  4.47300112e+08,\n",
              "       -3.00888366e+08,  2.74795980e+08,  9.42052880e+08,  1.61528301e+08,\n",
              "        1.06295052e+08,  1.45883732e+08,  3.80062962e+08,  4.52391227e+08,\n",
              "        7.44338520e+08,  2.06155602e+08,  8.86537183e+08,  3.54060645e+08,\n",
              "        2.55168272e+08,  1.65244067e+08,  3.34629772e+08,  1.11985271e+09,\n",
              "        2.69552693e+08,  3.96471035e+07,  1.86730163e+08,  4.90581235e+08,\n",
              "        9.44086951e+08,  2.15072020e+09,  1.42427663e+09,  2.00958450e+08,\n",
              "        1.55270656e+08,  8.49269695e+08,  3.60795383e+08,  1.32313483e+08,\n",
              "        2.60789933e+08,  7.76086567e+08,  1.67390819e+08,  1.09993855e+09,\n",
              "        1.24236832e+08,  6.30024905e+08,  9.80686397e+07,  1.59280264e+08,\n",
              "        3.27715636e+08,  4.17798804e+09,  3.31410042e+08,  2.67554617e+09,\n",
              "        3.88740034e+08,  4.74231601e+08,  5.32882631e+08,  5.24506021e+08,\n",
              "        4.01485422e+08,  3.81218928e+08,  1.84734912e+08,  1.43881188e+08,\n",
              "        3.05474765e+08,  9.77415713e+08,  6.28738680e+08,  1.66830900e+08,\n",
              "        7.21459928e+09,  1.42778697e+08,  3.35545896e+08,  4.64453109e+08,\n",
              "        7.55462401e+08,  6.74164078e+08,  4.44959206e+08,  1.63803217e+07,\n",
              "        1.33025605e+08,  5.07857942e+07,  9.50948104e+07,  6.32028813e+08,\n",
              "        1.70969070e+08,  1.20508905e+08,  1.05334102e+09,  1.85033891e+08,\n",
              "        6.59657342e+08,  1.20295381e+08,  4.35789815e+08,  5.26057503e+08,\n",
              "        6.47738828e+08,  5.39654845e+08,  2.03570328e+08,  1.80684009e+08,\n",
              "        4.46597147e+08,  5.79677768e+08,  5.56726397e+08,  5.04804867e+09])"
            ]
          },
          "execution_count": 44,
          "metadata": {},
          "output_type": "execute_result"
        }
      ],
      "source": [
        "y_prediction =  LR.predict(x_test)\n",
        "y_prediction"
      ]
    },
    {
      "cell_type": "markdown",
      "metadata": {
        "id": "6XLqM7KGLj7A"
      },
      "source": [
        "### Importing r2_score module and measuring **Accuracy**\n",
        "**R^2** (coefficient of determination) regression score function.\n",
        "\n",
        "Best possible score is 1.0 and it can be negative (because the model can be arbitrarily worse). A constant model that always predicts the expected value of y, disregarding the input features, would get a **R^2** score of 0.0."
      ]
    },
    {
      "cell_type": "code",
      "execution_count": 45,
      "metadata": {
        "id": "HiWkndwiSGLq"
      },
      "outputs": [
        {
          "name": "stdout",
          "output_type": "stream",
          "text": [
            "r2 socre is  0.84670238110028\n",
            "mean_sqrd_error is== 1.3685449578745686e+17\n",
            "root_mean_squared error of is== 369938502.71018946\n"
          ]
        }
      ],
      "source": [
        "\n",
        "from sklearn.metrics import r2_score\n",
        "from sklearn.metrics import mean_squared_error\n",
        "\n",
        "score= r2_score(y_test,y_prediction)\n",
        "print(\"r2 socre is \",score)\n",
        "print(\"mean_sqrd_error is==\",mean_squared_error(y_test,y_prediction))\n",
        "print(\"root_mean_squared error of is==\",np.sqrt(mean_squared_error(y_test,y_prediction)))"
      ]
    },
    {
      "cell_type": "markdown",
      "metadata": {
        "id": "JQ0MOS-fMEdi"
      },
      "source": [
        "As we can see from above - **Results** that the **R^2** score is **0.8467023808038678** Therefore, it has more than **80% Accuracy** and is very much usable.."
      ]
    }
  ],
  "metadata": {
    "colab": {
      "name": "Linear Regression.ipynb",
      "provenance": []
    },
    "kernelspec": {
      "display_name": "Python 3",
      "name": "python3"
    },
    "language_info": {
      "codemirror_mode": {
        "name": "ipython",
        "version": 3
      },
      "file_extension": ".py",
      "mimetype": "text/x-python",
      "name": "python",
      "nbconvert_exporter": "python",
      "pygments_lexer": "ipython3",
      "version": "3.8.12"
    }
  },
  "nbformat": 4,
  "nbformat_minor": 0
}
